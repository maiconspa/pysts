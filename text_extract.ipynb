{
 "cells": [
  {
   "cell_type": "code",
   "execution_count": 1,
   "id": "3eea5b76-863f-4a18-96c4-2fab87418a19",
   "metadata": {},
   "outputs": [
    {
     "name": "stdout",
     "output_type": "stream",
     "text": [
      "\u001b[33mWARNING: You are using pip version 21.2.4; however, version 24.0 is available.\n",
      "You should consider upgrading via the '/Users/maiconaraujo/Desktop/lab/sts/venv/bin/python3 -m pip install --upgrade pip' command.\u001b[0m\n",
      "Note: you may need to restart the kernel to use updated packages.\n"
     ]
    }
   ],
   "source": [
    "%pip install -q SpeechRecognition pydub urllib3==1.26.7"
   ]
  },
  {
   "cell_type": "code",
   "execution_count": 2,
   "id": "411a03e6-5cf6-4795-88a0-f49807cee3a6",
   "metadata": {},
   "outputs": [],
   "source": [
    "import speech_recognition as sr"
   ]
  },
  {
   "cell_type": "code",
   "execution_count": 7,
   "id": "3b6fb1f6-8a41-4883-964e-d6541c392a5a",
   "metadata": {},
   "outputs": [],
   "source": [
    "AUDIO_FILE = \"./audio/test.wav\"\n",
    "OUTPUT_TEXT = \"./text/test.txt\""
   ]
  },
  {
   "cell_type": "code",
   "execution_count": 9,
   "id": "30a90fc7-6b23-4964-9b6a-dda862d1e61a",
   "metadata": {},
   "outputs": [],
   "source": [
    "# initialize the recognizer\n",
    "r = sr.Recognizer()\n",
    "\n",
    "# open the file\n",
    "with sr.AudioFile(AUDIO_FILE) as source:\n",
    "    # listen for the data (load audio to memory)\n",
    "    audio_data = r.record(source)\n",
    "    # recognize (convert from speech to text)\n",
    "    text = r.recognize_google(audio_data)\n",
    "\n",
    "# Open the file in write mode\n",
    "with open(OUTPUT_TEXT, \"w\") as file:\n",
    "    # Write the variable's value to the file\n",
    "    file.write(text)\n"
   ]
  },
  {
   "cell_type": "code",
   "execution_count": null,
   "id": "d6b54855-ad75-410f-868b-24227658796b",
   "metadata": {},
   "outputs": [],
   "source": []
  }
 ],
 "metadata": {
  "kernelspec": {
   "display_name": "Python 3 (ipykernel)",
   "language": "python",
   "name": "python3"
  },
  "language_info": {
   "codemirror_mode": {
    "name": "ipython",
    "version": 3
   },
   "file_extension": ".py",
   "mimetype": "text/x-python",
   "name": "python",
   "nbconvert_exporter": "python",
   "pygments_lexer": "ipython3",
   "version": "3.9.6"
  }
 },
 "nbformat": 4,
 "nbformat_minor": 5
}
