{
 "cells": [
  {
   "cell_type": "code",
   "execution_count": 1,
   "id": "597a85e8-a97d-40b4-92e3-a18e7ced0d45",
   "metadata": {},
   "outputs": [
    {
     "name": "stdout",
     "output_type": "stream",
     "text": [
      "\u001b[33mWARNING: You are using pip version 21.2.4; however, version 24.0 is available.\n",
      "You should consider upgrading via the '/Users/maiconaraujo/Desktop/lab/sts/venv/bin/python3 -m pip install --upgrade pip' command.\u001b[0m\n",
      "Note: you may need to restart the kernel to use updated packages.\n"
     ]
    }
   ],
   "source": [
    "%pip install -q gTTS pygame PyObjC"
   ]
  },
  {
   "cell_type": "code",
   "execution_count": 2,
   "id": "153759cf-922c-44c5-8779-765d9a954836",
   "metadata": {},
   "outputs": [
    {
     "name": "stdout",
     "output_type": "stream",
     "text": [
      "pygame 2.5.2 (SDL 2.28.3, Python 3.9.6)\n",
      "Hello from the pygame community. https://www.pygame.org/contribute.html\n"
     ]
    }
   ],
   "source": [
    "import gtts\n",
    "import pygame\n",
    "from playsound import playsound"
   ]
  },
  {
   "cell_type": "code",
   "execution_count": 3,
   "id": "f8feccbf-f8ba-41a1-b172-abd2a1308ad3",
   "metadata": {},
   "outputs": [],
   "source": [
    "TEXT_FILE = \"./text/test.txt\"\n",
    "TEMP_FILE = \"./temp/test.txt\""
   ]
  },
  {
   "cell_type": "code",
   "execution_count": 4,
   "id": "b9fb9e0c-0d6d-4efc-984f-b081bc04e4c8",
   "metadata": {},
   "outputs": [],
   "source": [
    "# Open the file in read mode\n",
    "with open(TEXT_FILE, \"r\") as file:\n",
    "    # Read the entire content of the file\n",
    "    file_content = file.read()"
   ]
  },
  {
   "cell_type": "code",
   "execution_count": 5,
   "id": "554f56b2-c3a9-474e-a4a8-c3442d3d72e8",
   "metadata": {},
   "outputs": [],
   "source": [
    "tts = gtts.gTTS(file_content)\n",
    "tts.save(TEMP_FILE)"
   ]
  },
  {
   "cell_type": "code",
   "execution_count": 6,
   "id": "54eb2fa2-d80c-4092-8cde-998e001ebb2b",
   "metadata": {},
   "outputs": [
    {
     "name": "stdout",
     "output_type": "stream",
     "text": [
      "playing:  is there is a video test video test disease a video test\n"
     ]
    }
   ],
   "source": [
    "pygame.mixer.init()\n",
    "pygame.mixer.music.load(TEMP_FILE)\n",
    "pygame.mixer.music.play()\n",
    "\n",
    "print(\"playing: \", file_content)"
   ]
  },
  {
   "cell_type": "code",
   "execution_count": null,
   "id": "2291c25a-c731-471b-833e-5acf59d6603e",
   "metadata": {},
   "outputs": [],
   "source": []
  }
 ],
 "metadata": {
  "kernelspec": {
   "display_name": "Python 3 (ipykernel)",
   "language": "python",
   "name": "python3"
  },
  "language_info": {
   "codemirror_mode": {
    "name": "ipython",
    "version": 3
   },
   "file_extension": ".py",
   "mimetype": "text/x-python",
   "name": "python",
   "nbconvert_exporter": "python",
   "pygments_lexer": "ipython3",
   "version": "3.9.6"
  }
 },
 "nbformat": 4,
 "nbformat_minor": 5
}
