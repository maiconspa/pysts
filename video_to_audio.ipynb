{
 "cells": [
  {
   "cell_type": "code",
   "execution_count": 1,
   "id": "44f10aeb-a151-420d-acdf-e9dccfe6aac1",
   "metadata": {},
   "outputs": [
    {
     "name": "stdout",
     "output_type": "stream",
     "text": [
      "\u001b[33mWARNING: You are using pip version 21.2.4; however, version 24.0 is available.\n",
      "You should consider upgrading via the '/Users/maiconaraujo/Desktop/lab/sts/venv/bin/python3 -m pip install --upgrade pip' command.\u001b[0m\n",
      "Note: you may need to restart the kernel to use updated packages.\n"
     ]
    }
   ],
   "source": [
    "%pip install -q moviepy ffmpeg-python"
   ]
  },
  {
   "cell_type": "code",
   "execution_count": 2,
   "id": "dbda944d-81b0-40d2-bbd8-5044a1cf1b58",
   "metadata": {},
   "outputs": [],
   "source": [
    "!brew install -q ffmpeg"
   ]
  },
  {
   "cell_type": "code",
   "execution_count": 3,
   "id": "263ea808-7543-47a4-afbe-884023ebd093",
   "metadata": {},
   "outputs": [
    {
     "name": "stdout",
     "output_type": "stream",
     "text": [
      "ffmpeg: /opt/homebrew/bin/ffmpeg /opt/homebrew/share/man/man1/ffmpeg.1\n"
     ]
    }
   ],
   "source": [
    "!whereis ffmpeg"
   ]
  },
  {
   "cell_type": "code",
   "execution_count": 4,
   "id": "ddf48c03-8fe4-449d-b0b4-8d697fa91835",
   "metadata": {},
   "outputs": [],
   "source": [
    "import os\n",
    "\n",
    "os.environ['IMAGEIO_FFMPEG_EXE'] = '/opt/homebrew/bin/ffmpeg'"
   ]
  },
  {
   "cell_type": "code",
   "execution_count": 5,
   "id": "0f93b3c6-481c-436a-a1e9-b23550938213",
   "metadata": {},
   "outputs": [],
   "source": [
    "from moviepy.editor import *"
   ]
  },
  {
   "cell_type": "code",
   "execution_count": 6,
   "id": "6af81a48-d33b-4262-8a42-3a8bf614174b",
   "metadata": {},
   "outputs": [],
   "source": [
    "VIDEO_PATH = \"./video/video_test.mov\"\n",
    "OUTPUT_PATH = \"./audio/test.wav\""
   ]
  },
  {
   "cell_type": "code",
   "execution_count": 7,
   "id": "6fe4f366-beaf-4ec2-b2b5-90b8119d74fb",
   "metadata": {},
   "outputs": [
    {
     "name": "stdout",
     "output_type": "stream",
     "text": [
      "MoviePy - Writing audio in ./audio/test.wav\n"
     ]
    },
    {
     "name": "stderr",
     "output_type": "stream",
     "text": [
      "                                                                                "
     ]
    },
    {
     "name": "stdout",
     "output_type": "stream",
     "text": [
      "MoviePy - Done.\n"
     ]
    },
    {
     "name": "stderr",
     "output_type": "stream",
     "text": [
      "\r"
     ]
    }
   ],
   "source": [
    "def video_to_mp3(video_path, output_path):\n",
    "    video = VideoFileClip(video_path)\n",
    "    audio = video.audio\n",
    "    audio.write_audiofile(output_path)\n",
    "\n",
    "if __name__ == \"__main__\":\n",
    "    video_path = VIDEO_PATH\n",
    "    output_path = OUTPUT_PATH\n",
    "    video_to_mp3(video_path, output_path)"
   ]
  }
 ],
 "metadata": {
  "kernelspec": {
   "display_name": "Python 3 (ipykernel)",
   "language": "python",
   "name": "python3"
  },
  "language_info": {
   "codemirror_mode": {
    "name": "ipython",
    "version": 3
   },
   "file_extension": ".py",
   "mimetype": "text/x-python",
   "name": "python",
   "nbconvert_exporter": "python",
   "pygments_lexer": "ipython3",
   "version": "3.9.6"
  }
 },
 "nbformat": 4,
 "nbformat_minor": 5
}
